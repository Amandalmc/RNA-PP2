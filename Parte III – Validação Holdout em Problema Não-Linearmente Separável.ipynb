{
 "cells": [
  {
   "cell_type": "markdown",
   "metadata": {},
   "source": [
    "# Esboço do Projeto prático 2\n",
    "\n",
    "<strong> Disciplina: </strong> Redes Neurais Artificiais <br>\n",
    "<strong> Objetivo: </strong>Aprendizado supervisonado no Neurônio Perceptron.</strong> <br>\n",
    "<strong> Alunos autores do projeto: </strong>\n",
    "* Amanda Letícia (1415170006)\n",
    "* Erik Atilio (1715310059)\n",
    "* Filip Anselmo (1515310004)\n",
    "* Wilbert Marins (1715310055)"
   ]
  },
  {
   "cell_type": "code",
   "execution_count": 2,
   "metadata": {},
   "outputs": [],
   "source": [
    "import numpy as np\n",
    "import pandas as pd\n",
    "import matplotlib.pyplot as plt\n",
    "from pp2_amostra.ipynb import plotpredict"
   ]
  },
  {
   "cell_type": "code",
   "execution_count": 3,
   "metadata": {},
   "outputs": [],
   "source": [
    "dt = np.dtype([('time', [('min', np.int64), ('sec', np.int64)]), ('temp', float)])\n",
    "df = np.fromfile('dataframe/dataHoldout.txt', dtype=dt)"
   ]
  },
  {
   "cell_type": "code",
   "execution_count": null,
   "metadata": {},
   "outputs": [],
   "source": []
  }
 ],
 "metadata": {
  "kernelspec": {
   "display_name": "Python 3",
   "language": "python",
   "name": "python3"
  },
  "language_info": {
   "codemirror_mode": {
    "name": "ipython",
    "version": 3
   },
   "file_extension": ".py",
   "mimetype": "text/x-python",
   "name": "python",
   "nbconvert_exporter": "python",
   "pygments_lexer": "ipython3",
   "version": "3.8.2"
  }
 },
 "nbformat": 4,
 "nbformat_minor": 4
}
