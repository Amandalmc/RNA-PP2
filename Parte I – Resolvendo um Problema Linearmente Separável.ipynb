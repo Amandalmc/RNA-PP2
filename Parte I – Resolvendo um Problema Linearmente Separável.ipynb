{
 "cells": [
  {
   "cell_type": "markdown",
   "metadata": {},
   "source": [
    "# Parte I – Resolvendo um Problema Linearmente Separável"
   ]
  },
  {
   "cell_type": "markdown",
   "metadata": {},
   "source": [
    "### Bibliotecas\n",
    "\n",
    "A primeira célula do notebook será reservada para importação de bibliotecas."
   ]
  },
  {
   "cell_type": "code",
   "execution_count": 1,
   "metadata": {},
   "outputs": [],
   "source": [
    "import pandas as pd\n",
    "import numpy as np\n",
    "import struct, random, copy\n",
    "import matplotlib.pyplot as plt"
   ]
  },
  {
   "cell_type": "code",
   "execution_count": 2,
   "metadata": {},
   "outputs": [],
   "source": [
    "dt = np.dtype([('time', [('min', np.int64), ('sec', np.int64)]), ('temp', float)])\n",
    "df = np.fromfile('dataframe/dataAll.txt', dtype=dt)"
   ]
  },
  {
   "cell_type": "markdown",
   "metadata": {},
   "source": [
    "##### 1. As equipes devem utilizar a função de ativação degrau com θ = 0 (Fílip Anselmo);"
   ]
  },
  {
   "cell_type": "code",
   "execution_count": 1,
   "metadata": {},
   "outputs": [],
   "source": [
    "def degrau(u):\n",
    "    if(u >= 0):\n",
    "        return 1\n",
    "    else:\n",
    "        return 0"
   ]
  },
  {
   "cell_type": "markdown",
   "metadata": {},
   "source": [
    "##### 2. O valor da taxa de aprendizado deve ser igual a η = 0,1;"
   ]
  },
  {
   "cell_type": "code",
   "execution_count": 3,
   "metadata": {},
   "outputs": [
    {
     "name": "stdout",
     "output_type": "stream",
     "text": [
      "learning_rate:  0.1\n"
     ]
    }
   ],
   "source": [
    "learning_rate = 0.1\n",
    "print(\"learning_rate: \", learning_rate)"
   ]
  },
  {
   "cell_type": "markdown",
   "metadata": {},
   "source": [
    "##### 3. O vetor inicial de pesos deve ter seus valores inicializados conforme uma variável aleatória de distribuição uniforme no intervalo, isto é, wi ∼ U(−0,5, + 0,5). O vetor inicial de pesos deve ser impresso no início da execução do algoritmo; (Erik Atilio)"
   ]
  },
  {
   "cell_type": "code",
   "execution_count": 4,
   "metadata": {},
   "outputs": [],
   "source": [
    "weights_initial_vector = []\n",
    "\n",
    "for i in range(int(df.shape[0])):\n",
    "    weights_initial_vector.append(round(random.uniform(-0.5, 0.5), 1))"
   ]
  },
  {
   "cell_type": "markdown",
   "metadata": {},
   "source": [
    "##### 4. A cada época deve ser indicado o número de ajustes feitos no vetor de pesos;"
   ]
  },
  {
   "cell_type": "code",
   "execution_count": null,
   "metadata": {},
   "outputs": [],
   "source": []
  },
  {
   "cell_type": "markdown",
   "metadata": {},
   "source": [
    "##### 5. Sempre que o vetor de pesos for ajustado, este deve ser impresso;"
   ]
  },
  {
   "cell_type": "code",
   "execution_count": null,
   "metadata": {},
   "outputs": [],
   "source": []
  },
  {
   "cell_type": "markdown",
   "metadata": {},
   "source": [
    "##### 6. O algoritmo deve executar até a convergência, isto é, até que não haja erros para todos os exemplos presentes no conjunto de treinamento;"
   ]
  },
  {
   "cell_type": "code",
   "execution_count": null,
   "metadata": {},
   "outputs": [],
   "source": []
  },
  {
   "cell_type": "markdown",
   "metadata": {},
   "source": [
    "#### Definição da class perceptron orientada a objeto"
   ]
  },
  {
   "cell_type": "code",
   "execution_count": 5,
   "metadata": {},
   "outputs": [],
   "source": [
    "class Perceptron:\n",
    "\n",
    "    def __init__(self, amostras, saidas, taxa_aprendizado=0.1, epocas=1000, limiar=-1):\n",
    "\n",
    "        self.amostras = amostras # todas as amostras\n",
    "        self.saidas = saidas # saídas respectivas de cada amostra\n",
    "        self.taxa_aprendizado = taxa_aprendizado # taxa de aprendizado (entre 0 e 1)\n",
    "        self.epocas = epocas # número de épocas\n",
    "        self.limiar = limiar # limiar\n",
    "        self.num_amostras = len(amostras) # quantidade de amostras\n",
    "        self.num_amostra = len(amostras[0]) # quantidade de elementos por cada amostra\n",
    "        self.pesos = [] # vetor dos pesos\n",
    "\n",
    "\n",
    "    # função utilizada para treinar a rede\n",
    "    def treinar(self):\n",
    "\n",
    "        # adiciona -1 para cada amostra\n",
    "        for amostra in self.amostras:\n",
    "            amostra.insert(0, -1)\n",
    "\n",
    "        # inicia o vetor de pesos com valores aleatórios pequenos\n",
    "        for i in range(self.num_amostra):\n",
    "            self.pesos.append(random.random())\n",
    "\n",
    "        # insere o limiar no vetor de pesos\n",
    "        self.pesos.insert(0, self.limiar)\n",
    "\n",
    "        num_epocas = 0 # inicia o contador de épocas\n",
    "        \n",
    "        while True:\n",
    "\n",
    "            erro = False # erro inicialmente inexiste\n",
    "\n",
    "            # para todas as amostras de treinamento\n",
    "            for i in range(self.num_amostras):\n",
    "                \n",
    "                u = 0\n",
    "                '''\n",
    "                    realiza o somatório, o limite (self.num_amostra + 1) \n",
    "                    é porque foi inserido o -1 em cada amostra\n",
    "                '''\n",
    "                for j in range(self.num_amostra + 1):\n",
    "                    u += self.pesos[j] * self.amostras[i][j]\n",
    "                    \n",
    "                # obtém a saída da rede utilizando a função de ativação\n",
    "                y = self.sinal(u)\n",
    "\n",
    "                # verifica se a saída da rede é diferente da saída desejada\n",
    "                if y != self.saidas[i]:\n",
    "\n",
    "                    # calcula o erro: subtração entre a saída desejada e a saída da rede\n",
    "                    erro_aux = self.saidas[i] - y\n",
    "\n",
    "                    # faz o ajuste dos pesos para cada elemento da amostra\n",
    "                    for j in range (self.num_amostra + 1):\n",
    "                        self.pesos[j] = self.pesos[j] + self.taxa_aprendizado * erro_aux * self.amostras[i][j]\n",
    "\n",
    "                    erro = True # se entrou, é porque o erro ainda existe\n",
    "                    \n",
    "            num_epocas += 1 # incrementa o número de épocas\n",
    "\n",
    "            # critério de parada é pelo número de épocas ou se não existir erro\n",
    "            if num_epocas > self.epocas or not erro:\n",
    "                break\n",
    "\n",
    "\n",
    "    # função utilizada para testar a rede\n",
    "    # recebe uma amostra a ser classificada e os nomes das classes\n",
    "    # utiliza função sinal, se é -1 então é classe1, senão é classe2\n",
    "    def testar(self, amostra, classe1, classe2):\n",
    "\n",
    "        # insere o -1\n",
    "        amostra.insert(0, -1)\n",
    "\n",
    "        '''\n",
    "            utiliza-se o vetor de pesos ajustado\n",
    "            durante o treinamento da rede\n",
    "        '''\n",
    "        u = 0\n",
    "        for i in range(self.num_amostra + 1):\n",
    "            u += self.pesos[i] * amostra[i]\n",
    "\n",
    "        # calcula a saída da rede\n",
    "        y = self.sinal(u)\n",
    "\n",
    "        # verifica a qual classe pertence\n",
    "        if y == -1:\n",
    "            print('A amostra pertence a classe %s' % classe1)\n",
    "        else:\n",
    "            print('A amostra pertence a classe %s' % classe2)\n",
    "\n",
    "\n",
    "    def degrau(self, u):\n",
    "        return 1 if u >= 0 else 0\n",
    "\n",
    "\n",
    "    def sinal(self, u): # é a mesma função degrau bipolar\n",
    "        return 1 if u >= 0 else -1"
   ]
  }
 ],
 "metadata": {
  "kernelspec": {
   "display_name": "Python 3",
   "language": "python",
   "name": "python3"
  },
  "language_info": {
   "codemirror_mode": {
    "name": "ipython",
    "version": 3
   },
   "file_extension": ".py",
   "mimetype": "text/x-python",
   "name": "python",
   "nbconvert_exporter": "python",
   "pygments_lexer": "ipython3",
   "version": "3.7.3"
  }
 },
 "nbformat": 4,
 "nbformat_minor": 4
}
